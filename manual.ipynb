{
 "cells": [
  {
   "cell_type": "code",
   "execution_count": 3,
   "metadata": {},
   "outputs": [],
   "source": [
    "import pandas\n",
    "\n",
    "dataf = pandas.read_csv('manual_annotation/labelled_diseases_phm/MS-web.preprocessed.simfiltered.diseasementions.tsv',sep='\\t')\n",
    "dataf[['portal_url','text_raw']].to_csv('manual_annotation/converted/MS-web.csv',sep='\\t',index=False)"
   ]
  },
  {
   "cell_type": "code",
   "execution_count": 31,
   "metadata": {},
   "outputs": [],
   "source": [
    "from lxml import etree as ET\n",
    "\n",
    "with open('test.xml', 'r',encoding='utf-8') as xml_file:\n",
    "    tree = ET.parse(xml_file)\n",
    "\n",
    "    root = tree.getroot()\n",
    "    outstrings = []\n",
    "    for annotation in root.findall(\".//Annotation\"):\n",
    "        outstring = ''\n",
    "        position = ','.join([annotation.get('StartNode'),annotation.get('EndNode')])\n",
    "\n",
    "        about = ''\n",
    "        confidence = ''\n",
    "        for feature in annotation.findall(\".//Feature\"):\n",
    "            if feature.find('Name').text == 'about':\n",
    "                if feature.find('Value').text:\n",
    "                    about = feature.find('Value').text\n",
    "\n",
    "            if feature.find('Name').text == 'confidence':\n",
    "                confidence = feature.find('Value').text\n",
    "        outstring = '\\t'.join([position, confidence, about])\n",
    "        outstrings.append(outstring)\n",
    "\n",
    "    annostring = '\\t'.join(outstrings)\n",
    "\n",
    "    textnode = root.find('.//TextWithNodes')\n",
    "    ET.strip_tags(textnode,'Node')\n",
    "    rawtext = textnode.text\n",
    "    \n",
    "with open('test_out.tsv','w') as f:\n",
    "    f.write(rawtext + '\\t' + annostring)"
   ]
  },
  {
   "cell_type": "code",
   "execution_count": null,
   "metadata": {},
   "outputs": [],
   "source": []
  }
 ],
 "metadata": {
  "kernelspec": {
   "display_name": "Python 3",
   "language": "python",
   "name": "python3"
  },
  "language_info": {
   "codemirror_mode": {
    "name": "ipython",
    "version": 3
   },
   "file_extension": ".py",
   "mimetype": "text/x-python",
   "name": "python",
   "nbconvert_exporter": "python",
   "pygments_lexer": "ipython3",
   "version": "3.8.2"
  }
 },
 "nbformat": 4,
 "nbformat_minor": 4
}
