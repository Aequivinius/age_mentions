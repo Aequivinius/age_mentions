{
 "cells": [
  {
   "cell_type": "code",
   "execution_count": 52,
   "metadata": {},
   "outputs": [],
   "source": [
    "import pandas\n",
    "import numpy\n",
    "import json\n",
    "import requests\n",
    "\n",
    "dataf = pandas.read_csv('data/all.csv')\n",
    "# jsons = open('data/jsonlines.json').readlines()"
   ]
  },
  {
   "cell_type": "code",
   "execution_count": 56,
   "metadata": {},
   "outputs": [
    {
     "name": "stdout",
     "output_type": "stream",
     "text": [
      "dict_keys(['id', 'tokens', 'spans', 'judgments_count', 'text'])\n"
     ]
    }
   ],
   "source": [
    "for i, row in dataf[dataf.annotation.notnull()].head(1).iterrows():\n",
    "    myjson = requests.get(row.annotation).json()\n",
    "    print(myjson.keys())\n",
    "\n",
    "# 22 unique annotations"
   ]
  },
  {
   "cell_type": "code",
   "execution_count": 34,
   "metadata": {},
   "outputs": [
    {
     "data": {
      "text/plain": [
       "[{'id': 5516745399,\n",
       "  'created_at': '2020-03-13T15:39:24+00:00',\n",
       "  'started_at': '2020-03-13T15:37:13+00:00',\n",
       "  'acknowledged_at': None,\n",
       "  'external_type': 'feca',\n",
       "  'golden': False,\n",
       "  'missed': None,\n",
       "  'rejected': None,\n",
       "  'tainted': False,\n",
       "  'country': 'VEN',\n",
       "  'region': '25',\n",
       "  'city': 'Caracas',\n",
       "  'unit_id': 2684649280,\n",
       "  'job_id': 1558687,\n",
       "  'worker_id': 45399474,\n",
       "  'trust': 1.0,\n",
       "  'worker_trust': 0.840192028985507,\n",
       "  'unit_state': 'finalized',\n",
       "  'data': {'annotations': '{\"job_id\":1558687,\"annotation_id\":\"ddc0342319f7d280f87ad95f5654d844b2f3914149e5d467\",\"custom_bucket\":false}'},\n",
       "  'unit_data': {'text_raw': 'Hi , . I was diagnosed in 2005 , I was 44 working in The Middle East . In 2006 I returned to England to see a Neurology Professor , he could not confirm Parkinson\\'s from his examination and so , he arranged a Dat Scan which confirmed that I do have Parkinson\\'s . However , in 2013 I met with another Neurology Professor in Singapore , he rejected the Dat Scan findings and said that I did not have the disease but , he didn\\'t say what I had . Again I returned to England and the Neurologist told me that I have YOPD ! I have only met 3-4 other Parkinson\\'s victims , all were older than myself . Now it seems that I am experiencing \" on - off \" symptoms and do not know what to do about it . I am living in Indonesia where there are no support groups . cookies .'}},\n",
       " {'id': 5516748953,\n",
       "  'created_at': '2020-03-13T15:40:46+00:00',\n",
       "  'started_at': '2020-03-13T15:38:55+00:00',\n",
       "  'acknowledged_at': None,\n",
       "  'external_type': 'feca',\n",
       "  'golden': False,\n",
       "  'missed': None,\n",
       "  'rejected': None,\n",
       "  'tainted': False,\n",
       "  'country': 'VEN',\n",
       "  'region': '13',\n",
       "  'city': 'Barquisimeto',\n",
       "  'unit_id': 2684649280,\n",
       "  'job_id': 1558687,\n",
       "  'worker_id': 45317996,\n",
       "  'trust': 1.0,\n",
       "  'worker_trust': 0.971895424836601,\n",
       "  'unit_state': 'finalized',\n",
       "  'data': {'annotations': '{\"job_id\":1558687,\"annotation_id\":\"ddc0342319f7d2803705446194eb9a8b9ba8bddf34c56f01\",\"custom_bucket\":false}'},\n",
       "  'unit_data': {'text_raw': 'Hi , . I was diagnosed in 2005 , I was 44 working in The Middle East . In 2006 I returned to England to see a Neurology Professor , he could not confirm Parkinson\\'s from his examination and so , he arranged a Dat Scan which confirmed that I do have Parkinson\\'s . However , in 2013 I met with another Neurology Professor in Singapore , he rejected the Dat Scan findings and said that I did not have the disease but , he didn\\'t say what I had . Again I returned to England and the Neurologist told me that I have YOPD ! I have only met 3-4 other Parkinson\\'s victims , all were older than myself . Now it seems that I am experiencing \" on - off \" symptoms and do not know what to do about it . I am living in Indonesia where there are no support groups . cookies .'}},\n",
       " {'id': 5516958608,\n",
       "  'created_at': '2020-03-13T17:17:15+00:00',\n",
       "  'started_at': '2020-03-13T17:09:11+00:00',\n",
       "  'acknowledged_at': None,\n",
       "  'external_type': 'clixsense',\n",
       "  'golden': False,\n",
       "  'missed': None,\n",
       "  'rejected': None,\n",
       "  'tainted': False,\n",
       "  'country': 'IND',\n",
       "  'region': '02',\n",
       "  'city': 'Alwal',\n",
       "  'unit_id': 2684649280,\n",
       "  'job_id': 1558687,\n",
       "  'worker_id': 9589066,\n",
       "  'trust': 1.0,\n",
       "  'worker_trust': 0.893333333333333,\n",
       "  'unit_state': 'finalized',\n",
       "  'data': {'annotation': '{\"job_id\":1558687,\"annotation_id\":\"ddc0342319f7d280d9dd99df0ae3faa364cd9c862628b315\",\"custom_bucket\":false}'},\n",
       "  'unit_data': {'text_raw': 'Hi , . I was diagnosed in 2005 , I was 44 working in The Middle East . In 2006 I returned to England to see a Neurology Professor , he could not confirm Parkinson\\'s from his examination and so , he arranged a Dat Scan which confirmed that I do have Parkinson\\'s . However , in 2013 I met with another Neurology Professor in Singapore , he rejected the Dat Scan findings and said that I did not have the disease but , he didn\\'t say what I had . Again I returned to England and the Neurologist told me that I have YOPD ! I have only met 3-4 other Parkinson\\'s victims , all were older than myself . Now it seems that I am experiencing \" on - off \" symptoms and do not know what to do about it . I am living in Indonesia where there are no support groups . cookies .'}}]"
      ]
     },
     "execution_count": 34,
     "metadata": {},
     "output_type": "execute_result"
    }
   ],
   "source": []
  },
  {
   "cell_type": "code",
   "execution_count": null,
   "metadata": {},
   "outputs": [],
   "source": []
  }
 ],
 "metadata": {
  "kernelspec": {
   "display_name": "Python 3",
   "language": "python",
   "name": "python3"
  },
  "language_info": {
   "codemirror_mode": {
    "name": "ipython",
    "version": 3
   },
   "file_extension": ".py",
   "mimetype": "text/x-python",
   "name": "python",
   "nbconvert_exporter": "python",
   "pygments_lexer": "ipython3",
   "version": "3.8.2"
  }
 },
 "nbformat": 4,
 "nbformat_minor": 4
}
